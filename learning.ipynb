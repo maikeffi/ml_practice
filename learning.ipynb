{
 "cells": [
  {
   "cell_type": "code",
   "execution_count": 1,
   "metadata": {},
   "outputs": [],
   "source": [
    "import numpy as np \n",
    "import pandas as pd \n",
    "from scipy import stats\n",
    "import calendar\n",
    "import matplotlib as plt\n",
    "import category_encoders as ce\n",
    "import seaborn as sns\n",
    "from sklearn.model_selection import train_test_split\n",
    "from sklearn.model_selection import ShuffleSplit\n",
    "from sklearn import linear_model\n",
    "from sklearn.tree import DecisionTreeRegressor\n",
    "from sklearn.metrics import make_scorer\n",
    "from sklearn.model_selection import GridSearchCV\n",
    "from sklearn.feature_extraction import FeatureHasher\n",
    "from sklearn.preprocessing import LabelEncoder\n",
    "from sklearn.preprocessing import MultiLabelBinarizer\n",
    "from sklearn import svm"
   ]
  },
  {
   "cell_type": "code",
   "execution_count": 2,
   "metadata": {},
   "outputs": [],
   "source": [
    "pub_df = pd.read_csv('data/ks-projects-201801.csv')\n",
    "ins_df = pd.read_csv('data/insurance_event.csv')"
   ]
  },
  {
   "cell_type": "code",
   "execution_count": 28,
   "metadata": {},
   "outputs": [],
   "source": [
    "\"\"\"simplified extension of the replace function in python\"\"\"\n",
    "\n",
    "def replacen(text, kwargs):\n",
    "    \"\"\"any single character of `text` in `kwarg.keys()` is replaced by `kwarg[key]`\n",
    "    >>> consonants = replacen('abcdefghijklmnopqrstuvwxyz', {'aeiou':''})\n",
    "    \"\"\"\n",
    "    \n",
    "    try:\n",
    "        text = [str(i) for i in text]\n",
    "    except (ValueError, TypeError):\n",
    "        raise TypeError(\"`text` parameter must have valid str type\")\n",
    "        \n",
    "    #check the contents of each key, make sure there's no overlap:\n",
    "    collisions = any_key_collisions(kwargs)\n",
    "    if collisions:\n",
    "        raise KeyError(\"keys have duplicate find-replace strings: '%s'\" % collisions)\n",
    "    \n",
    "    #bring all keys together during character comparisons\n",
    "    all_keys = [[ix for ix in i] for i in kwargs.keys()]\n",
    "    for idx, i in enumerate(text):\n",
    "        for key in all_keys:\n",
    "            if i in ''.join(key):\n",
    "                text[idx] = kwargs.get(''.join(key))\n",
    "    return ''.join(text)\n",
    "\n",
    "def any_key_collisions(dictionary):\n",
    "    \"\"\"ensures no keys contain any other key element, across all keys\"\"\"\n",
    "    members = [i for i in dictionary.keys()]\n",
    "    dups = []\n",
    "    for idx, _ in enumerate(members):\n",
    "        candidate = members[idx * -1]\n",
    "        if candidate in members[: idx * -1]:\n",
    "            dups.append(candidate)\n",
    "    return ''.join(set(dups))\n",
    "\n",
    "def get_string(str):\n",
    "    return replacen(str, {'0':'a','1':'b','2':'c','3':'d','4':'e','5':'f','6':'g','7':'h','8':'i','9':'j'})"
   ]
  },
  {
   "cell_type": "code",
   "execution_count": 39,
   "metadata": {},
   "outputs": [
    {
     "data": {
      "text/plain": [
       "0     ihah\n",
       "1     hcgb\n",
       "2     bjgh\n",
       "3     hbhc\n",
       "4     ibaa\n",
       "5     ibaa\n",
       "6     jjdj\n",
       "7     jjcb\n",
       "8     dbgh\n",
       "9     bjha\n",
       "10    eadj\n",
       "11    cgaf\n",
       "12    hifb\n",
       "13    cbbb\n",
       "14    jjci\n",
       "15    hdag\n",
       "16    hiid\n",
       "17    ehhj\n",
       "18    dchd\n",
       "19    dhac\n",
       "20    jajj\n",
       "21    hebi\n",
       "22    eabb\n",
       "23    chfg\n",
       "24    icfh\n",
       "25    cfaa\n",
       "26    jjcb\n",
       "27    bjgc\n",
       "28    dcga\n",
       "29    echd\n",
       "      ... \n",
       "70    efji\n",
       "71    ihah\n",
       "72    Ahad\n",
       "73    cfae\n",
       "74    Vfeb\n",
       "75    jjci\n",
       "76    hbac\n",
       "77    jjcb\n",
       "78    dfba\n",
       "79    caha\n",
       "80    ihai\n",
       "81    hcec\n",
       "82    dced\n",
       "83    jjcb\n",
       "84    efij\n",
       "85    ddjh\n",
       "86    ifgb\n",
       "87    iged\n",
       "88    dccb\n",
       "89    Aegf\n",
       "90    hcef\n",
       "91    iebg\n",
       "92    hiha\n",
       "93    dced\n",
       "94    jjcb\n",
       "95    cfic\n",
       "96    chhc\n",
       "97    fjfa\n",
       "98    gbae\n",
       "99    ddcf\n",
       "Name: Event_Code, Length: 100, dtype: object"
      ]
     },
     "execution_count": 39,
     "metadata": {},
     "output_type": "execute_result"
    }
   ],
   "source": [
    "ins_df['Event_Code'] = ins_df.Event_Code.apply(get_string)\n",
    "ins_df['Event_Code'].head(100)"
   ]
  },
  {
   "cell_type": "code",
   "execution_count": 32,
   "metadata": {},
   "outputs": [],
   "source": [
    "new_col = []\n",
    "for row in pub_df['category']:\n",
    "    new_col.append(row)\n",
    "for row in ins_df['Event_Code'].head(1000):\n",
    "    new_col.append(row)    \n",
    "new_col=set(new_col)\n",
    "new_col=list(new_col)"
   ]
  },
  {
   "cell_type": "code",
   "execution_count": 38,
   "metadata": {},
   "outputs": [
    {
     "data": {
      "text/html": [
       "<div>\n",
       "<style scoped>\n",
       "    .dataframe tbody tr th:only-of-type {\n",
       "        vertical-align: middle;\n",
       "    }\n",
       "\n",
       "    .dataframe tbody tr th {\n",
       "        vertical-align: top;\n",
       "    }\n",
       "\n",
       "    .dataframe thead th {\n",
       "        text-align: right;\n",
       "    }\n",
       "</style>\n",
       "<table border=\"1\" class=\"dataframe\">\n",
       "  <thead>\n",
       "    <tr style=\"text-align: right;\">\n",
       "      <th></th>\n",
       "      <th>Test</th>\n",
       "    </tr>\n",
       "  </thead>\n",
       "  <tbody>\n",
       "    <tr>\n",
       "      <th>0</th>\n",
       "      <td>ibaa</td>\n",
       "    </tr>\n",
       "    <tr>\n",
       "      <th>1</th>\n",
       "      <td>Drinks</td>\n",
       "    </tr>\n",
       "    <tr>\n",
       "      <th>2</th>\n",
       "      <td>Food</td>\n",
       "    </tr>\n",
       "    <tr>\n",
       "      <th>3</th>\n",
       "      <td>Drama</td>\n",
       "    </tr>\n",
       "    <tr>\n",
       "      <th>4</th>\n",
       "      <td>jdcj</td>\n",
       "    </tr>\n",
       "  </tbody>\n",
       "</table>\n",
       "</div>"
      ],
      "text/plain": [
       "     Test\n",
       "0    ibaa\n",
       "1  Drinks\n",
       "2    Food\n",
       "3   Drama\n",
       "4    jdcj"
      ]
     },
     "execution_count": 38,
     "metadata": {},
     "output_type": "execute_result"
    }
   ],
   "source": [
    "col_df = pd.DataFrame({'Test':new_col})\n",
    "col_df.head()\n",
    "#col_df.shape"
   ]
  },
  {
   "cell_type": "code",
   "execution_count": 5,
   "metadata": {},
   "outputs": [],
   "source": [
    "def get_no_of_collisions(df,column,n):\n",
    "    fh = FeatureHasher(n_features=n, input_type='string')\n",
    "    hashed_features = fh.fit_transform(df[column].drop_duplicates()).toarray()\n",
    "    fh_df = pd.DataFrame(hashed_features)\n",
    "    g = fh_df.groupby(fh_df.columns.tolist())\n",
    "    return len(fh_df) - g.ngroups"
   ]
  },
  {
   "cell_type": "code",
   "execution_count": 36,
   "metadata": {},
   "outputs": [
    {
     "name": "stdout",
     "output_type": "stream",
     "text": [
      "Collision for column Test when n_features = 32 is : 198 \n",
      "Collision for column Test when n_features = 64 is : 195 \n",
      "Collision for column Test when n_features = 2 is : 717 \n",
      "Collision for column Test when n_features = 128 is : 195 \n",
      "Collision for column Test when n_features = 4 is : 615 \n",
      "Collision for column Test when n_features = 256 is : 193 \n",
      "Collision for column Test when n_features = 6 is : 503 \n",
      "Collision for column Test when n_features = 512 is : 193 \n",
      "Collision for column Test when n_features = 8 is : 465 \n",
      "Collision for column Test when n_features = 1024 is : 193 \n",
      "Collision for column Test when n_features = 10 is : 443 \n",
      "Collision for column Test when n_features = 2048 is : 193 \n",
      "Collision for column Test when n_features = 4096 is : 193 \n",
      "Collision for column Test when n_features = 16 is : 287 \n"
     ]
    }
   ],
   "source": [
    "n_limit = {2,4,6,8,10,16,32,64,128,256,512,1024,2048,4096}\n",
    "for n in n_limit:\n",
    "    print(\"Collision for column {} when n_features = {} is : {} \".format('Test',n,get_no_of_collisions(col_df,'Test',n)))"
   ]
  },
  {
   "cell_type": "code",
   "execution_count": null,
   "metadata": {},
   "outputs": [],
   "source": []
  }
 ],
 "metadata": {
  "kernelspec": {
   "display_name": "Python 3",
   "language": "python",
   "name": "python3"
  },
  "language_info": {
   "codemirror_mode": {
    "name": "ipython",
    "version": 3
   },
   "file_extension": ".py",
   "mimetype": "text/x-python",
   "name": "python",
   "nbconvert_exporter": "python",
   "pygments_lexer": "ipython3",
   "version": "3.6.3"
  }
 },
 "nbformat": 4,
 "nbformat_minor": 2
}
