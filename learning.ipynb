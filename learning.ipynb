{
 "cells": [
  {
   "cell_type": "code",
   "execution_count": 1,
   "metadata": {},
   "outputs": [],
   "source": [
    "import numpy as np \n",
    "import pandas as pd \n",
    "from scipy import stats\n",
    "import calendar\n",
    "import matplotlib as plt\n",
    "import category_encoders as ce\n",
    "import seaborn as sns\n",
    "from sklearn.model_selection import train_test_split\n",
    "from sklearn.model_selection import ShuffleSplit\n",
    "from sklearn import linear_model\n",
    "from sklearn.tree import DecisionTreeRegressor\n",
    "from sklearn.metrics import make_scorer\n",
    "from sklearn.model_selection import GridSearchCV\n",
    "from sklearn.feature_extraction import FeatureHasher\n",
    "from sklearn.preprocessing import LabelEncoder\n",
    "from sklearn.preprocessing import MultiLabelBinarizer\n",
    "from sklearn import svm"
   ]
  },
  {
   "cell_type": "code",
   "execution_count": 2,
   "metadata": {},
   "outputs": [],
   "source": [
    "pub_df = pd.read_csv('data/ks-projects-201801.csv')\n",
    "ins_df = pd.read_csv('data/insurance_event.csv')"
   ]
  },
  {
   "cell_type": "code",
   "execution_count": 18,
   "metadata": {},
   "outputs": [],
   "source": [
    "new_col = []\n",
    "for row in pub_df['category']:\n",
    "    new_col.append(row)\n",
    "for row in ins_df['Event_Code'].head(1000):\n",
    "    new_col.append(row)    \n",
    "new_col=set(new_col)\n",
    "new_col=list(new_col)"
   ]
  },
  {
   "cell_type": "code",
   "execution_count": 25,
   "metadata": {},
   "outputs": [
    {
     "data": {
      "text/plain": [
       "array(['6989', '3325', '1817', '9920', '3486', '8007', '8470', 'V438',\n",
       "       'Puzzles', '2425', 'Movie Theaters', 'Romance', '4109', '3328',\n",
       "       '1104', '3241', 'Live Games', '3059', '9703', 'E928',\n",
       "       'Science Fiction', 'J250', '6260', '9641', '3510', 'Kids', '3004',\n",
       "       '2617', '3131', 'Performance Art', '3082', 'Embroidery', '7943',\n",
       "       '2605', '7729', '9326', '2990', 'Sound', '3469', '2961',\n",
       "       'Young Adult', 'Painting', '3464', '9711', '3577', 'T101', '8267',\n",
       "       '7307', 'Fine Art', '7474', '3610', '3517', 'People', '1967',\n",
       "       'V436', 'V048', 'Pottery', '6489', '7159', '8005', '7879', '2648',\n",
       "       '4770', 'Fiction', 'Musical', 'V103', '4019', 'Crochet', '2178',\n",
       "       '2235', '3466', 'Product Design', '3462', '2508', '5984', '8708',\n",
       "       'E885', '7962', '6494', '1579', 'Mobile Games', 'V854', '2624',\n",
       "       'G855', 'Publishing', '6180', '2803', 'J078', '2833', '7221',\n",
       "       '2229', 'Nature', 'Spaces', 'J705', 'J348', '3266', 'Webseries',\n",
       "       'Performances', 'Food Trucks', 'Architecture', '1970', '3433',\n",
       "       '2859', 'A703', '9410', '3558', 'Nonfiction', 'Music', 'V745',\n",
       "       '2392', '8407', 'Tabletop Games', '6471', 'Community Gardens',\n",
       "       'Gaming Hardware', '5188', '3345', '2681', '3410',\n",
       "       \"Children's Books\", '217', '2659', '5621', 'Hip-Hop', 'G037',\n",
       "       'T453', 'V588', '9900', '7681', '8659', '7183', '2788', '4160',\n",
       "       'Installations', '8294', '7195', '7847', '2560', '2463', '9322',\n",
       "       'Apparel', 'G028', '1201', 'Comedy', '8501', '4349', '4168',\n",
       "       'E047', '2582', 'Illustration', '2708', 'Shorts', '2439',\n",
       "       'Hardware', '3479', '4409', '7637', '3411', '9099', '6829', '910',\n",
       "       '2449', '8369', '4659', '3209', '6422', 'Audio', '4149', '3211',\n",
       "       '8392', '2689', '2564', '3422', '2205', 'V586', '2939', '9096',\n",
       "       '4660', '7683', 'Theater', '3264', '3091', '3076', '8004', 'V880',\n",
       "       '3051', 'Art Books', '7700', '3702', '7807', 'Video Art', '1534',\n",
       "       'Jewelry', '7939', '8830', 'V221', '9516', '8006', '8010', '3092',\n",
       "       '7055', '9464', '3219', 'V458', 'A431', '3260', '2282', '3719',\n",
       "       '8448', 'Film & Video', '3167', '2513', '8391', '7079', 'J175',\n",
       "       'Space Exploration', '9939', '1110', 'V270', 'Latin', 'Typography',\n",
       "       '4384', '9590', '5351', '7101', '5990', '2768', '3009', '5855',\n",
       "       '2533', '5180', '7150', 'V728', '2756', '9923', '8408',\n",
       "       'Immersive', '4084', '7938', '3090', '8354', '3841', '2627',\n",
       "       'G020', '9637', 'Animals', '2478', '2606', 'G000', 'Chiptune',\n",
       "       '486', 'V127', 'R&B', '8102', '7680', '7850', '1619', '6827',\n",
       "       '2964', '2506', '7806', '7905', '3762', 'Documentary', 'Wearables',\n",
       "       '7126', '3233', 'Radio & Podcasts', '2959', '2104', '2334',\n",
       "       'Plays', '3626', 'Bacon', '3157', '3541', '3578', '3140', '5772',\n",
       "       'Weaving', '2946', '3641', '3213', '2489', 'Classical Music',\n",
       "       '5821', 'Comics', '1935', '2614', 'Art', 'V08', 'V288', '2382',\n",
       "       '1818', 'A465', '4040', '3254', '2480', 'Gadgets', '3289', '3562',\n",
       "       '6117', '5902', '6542', '4944', 'V541', 'V142', 'Events', 'Jazz',\n",
       "       '2538', '3824', 'Indie Rock', 'Dance', 'Anthologies', 'Workshops',\n",
       "       '7217', '9064', '2221', 'Metal', '8788', '3437', '2500', '5368',\n",
       "       '2318', 'J164', '1200', '2992', '4011', '2444', '8793',\n",
       "       'Ready-to-wear', '9615', '8614', 'V451', '6633', '6606', 'J246',\n",
       "       '1962', '3205', '7821', 'Ceramics', '7865', '7402', '1831', '7890',\n",
       "       'Television', '3731', '4819', '2869', '8707', '4063', 'Stationery',\n",
       "       '1871', '7172', 'V764', '3116', '1749', 'Literary Spaces', '8296',\n",
       "       'Music Videos', '4598', 'Graphic Novels', '2668', '9511',\n",
       "       'Cookbooks', '7207', '7071', '7931', '591', 'Playing Cards',\n",
       "       '4039', '7873', '7030', '5589', '2243', 'Family', '6440', '8690',\n",
       "       '7261', 'Restaurants', 'V723', '8215', '3358', '7805', '7373',\n",
       "       'Graphic Design', '7210', 'Pop', '7240', '4254', '2262', '7109',\n",
       "       '5853', '7245', '8573', '3198', '2847', '2690', '9928', 'J088',\n",
       "       '490', '3557', '4932', '5532', '2765', '340', '2429', '6425',\n",
       "       'J027', '8204', '2680', '1830', 'Couture', '2593', 'Zines', '2722',\n",
       "       'Drinks', 'Rock', '7705', '3272', '4033', 'V739', '5939', '2435',\n",
       "       'Glass', '2333', '8811', '3075', '3515', 'J240', '496',\n",
       "       'Periodicals', '8303', '4779', '7356', '3067', 'Printing', '9466',\n",
       "       '2949', 'Farms', '3201', 'V554', 'H100', 'Photobooks', '9780',\n",
       "       '7810', \"Farmer's Markets\", '8565', '2189', '3383', 'V259', '5210',\n",
       "       '6466', '3811', '4732', '810', '3751', 'Webcomics', '5742', '6104',\n",
       "       '2951', '7291', '2773', 'V140', '7219', '9714', '2769', 'Fashion',\n",
       "       '7855', '7228', '7600', '8711', '1975', '3388', '8561', 'Horror',\n",
       "       '7809', '4879', '4112', 'Festivals', 'DIY', '9652', '3221',\n",
       "       'Literary Journals', '2570', 'V141', '7073', 'Makerspaces', '2296',\n",
       "       '1983', '2835', 'Calendars', 'Letterpress', 'Translations', '8734',\n",
       "       '7937', '3475', '1800', 'Places', '3077', '9426', '7856', '3042',\n",
       "       'A950', 'J271', 'K000', '3711', 'J926', '9329', '2873', 'Drama',\n",
       "       '3000', 'Vegan', '6641', '8643', '4881', 'Sculpture', 'Candles',\n",
       "       '2780', '8685', '9519', 'V779', 'Quilts', '8274', 'Thrillers',\n",
       "       '3220', '5119', '8406', 'Photo', '4589', 'Pet Fashion', 'Blues',\n",
       "       '9921', '9924', '7214', '7393', '2544', '2387', 'Flight',\n",
       "       'Knitting', '3485', 'E139', '7367', 'Accessories', '7733', '9230',\n",
       "       'Residencies', '6221', '7361', '8268', 'V289', '4820', '2584',\n",
       "       '7242', 'Q009', 'V153', '4010', '8015', '2954', 'Experimental',\n",
       "       '3103', '9213', 'Print', 'Fantasy', 'Video', 'V025', '5741',\n",
       "       '2633', '2547', '3255', '9481', 'Software', '3553', '2987',\n",
       "       'DIY Electronics', 'Narrative Film', 'Crafts', 'V724',\n",
       "       'Comic Books', 'Q996', '8704', '2542', 'J255', '8452', 'E878',\n",
       "       '3304', 'Textiles', '7870', '7322', '3120', '3498', '3263', '4939',\n",
       "       '7398', '2709', '3243', '7418', 'Country & Folk', 'Woodworking',\n",
       "       '9967', '1190', '8749', '3384', 'A042', '9701', '9470', 'Web',\n",
       "       '3074', 'V250', '7363', '3535', '9300', '7670', '8658', '7070',\n",
       "       '3033', '2842', '2607', '5308', '6462', 'A436', 'World Music',\n",
       "       '8630', '3649', '311', '4818', '7194', '3483', 'J110', '3481',\n",
       "       'Small Batch', 'V072', '4070', '7339', '4278', 'Mixed Media',\n",
       "       'Digital Art', 'Journalism', '7391', '7990', '2731', '7802',\n",
       "       'Games', '7077', 'V163', '5950', '7045', '2674', '4866',\n",
       "       'Taxidermy', '2729', '7884', '7220', '7300', 'Punk', 'Footwear',\n",
       "       'Design', '2724', 'Technology', '3656', '2733', '8471', '9636',\n",
       "       '2741', '2720', '2632', '3109', '7048', '3397', '2486', '462',\n",
       "       'J144', '3673', '2490', '2181', '3164', '2965', '2111', '8205',\n",
       "       '8444', 'Q408', '4778', 'A043', 'Fabrication Tools', '8300',\n",
       "       '1006', '2777', '8257', '8230', 'Action', '2666', 'Childrenswear',\n",
       "       '7313', '6349', '7231', '9437', '8445', '7822', 'V053', '3487',\n",
       "       '7860', '8759', 'Food', '5569', 'Animation', '7306', '6259',\n",
       "       '6268', '6595', '8620', '3222', 'V700', '8100', 'E057', '3273',\n",
       "       '5951', '7298', '5999', '1828', '3591', '2667', 'V102', '6778',\n",
       "       '2504', '7862', 'Conceptual Art', '8255', '3D Printing', '4140',\n",
       "       'Civic Design', 'Poetry', 'V643', '9328', '3324', '9592', 'Robots',\n",
       "       'Interactive Design', 'Apps', '7851', '9753', 'S932', '1510',\n",
       "       'Faith', '3256', '2530', '2070', '6202', '1927', '3085', '7812',\n",
       "       '2760', '7295', '7102', 'V761', '7883', 'Photography', '9922',\n",
       "       '5856', '4239', '7177', '4512', '6210', '7840', 'Public Art',\n",
       "       '4401', '4273', 'Camera Equipment', '8416', '8502',\n",
       "       'Electronic Music', '6488', '2609', '6161', 'Academic', '6447',\n",
       "       '4280', '4848', 'J188', '2772', '6427', 'Video Games', '1827'],\n",
       "      dtype=object)"
      ]
     },
     "execution_count": 25,
     "metadata": {},
     "output_type": "execute_result"
    }
   ],
   "source": [
    "col_df = pd.DataFrame({'Test':new_col})\n",
    "col_df.Test.unique()"
   ]
  },
  {
   "cell_type": "code",
   "execution_count": 26,
   "metadata": {},
   "outputs": [],
   "source": [
    "def get_no_of_collisions(df,column,n):\n",
    "    fh = FeatureHasher(n_features=n, input_type='string')\n",
    "    hashed_features = fh.fit_transform(df[column].drop_duplicates()).toarray()\n",
    "    fh_df = pd.DataFrame(hashed_features)\n",
    "    g = fh_df.groupby(fh_df.columns.tolist())\n",
    "    return len(fh_df) - g.ngroups"
   ]
  },
  {
   "cell_type": "code",
   "execution_count": 29,
   "metadata": {},
   "outputs": [
    {
     "name": "stdout",
     "output_type": "stream",
     "text": [
      "Collision for column Test when n_features = 32 is : 206 \n",
      "Collision for column Test when n_features = 64 is : 206 \n",
      "Collision for column Test when n_features = 2 is : 717 \n",
      "Collision for column Test when n_features = 128 is : 193 \n",
      "Collision for column Test when n_features = 4 is : 605 \n",
      "Collision for column Test when n_features = 256 is : 193 \n",
      "Collision for column Test when n_features = 6 is : 466 \n",
      "Collision for column Test when n_features = 512 is : 193 \n",
      "Collision for column Test when n_features = 8 is : 463 \n",
      "Collision for column Test when n_features = 1024 is : 193 \n",
      "Collision for column Test when n_features = 10 is : 416 \n",
      "Collision for column Test when n_features = 2048 is : 193 \n",
      "Collision for column Test when n_features = 16 is : 288 \n"
     ]
    }
   ],
   "source": [
    "n_limit = {2,4,6,8,10,16,32,64,128,256,512,1024,2048}\n",
    "for n in n_limit:\n",
    "    print(\"Collision for column {} when n_features = {} is : {} \".format('Test',n,get_no_of_collisions(col_df,'Test',n)))"
   ]
  }
 ],
 "metadata": {
  "kernelspec": {
   "display_name": "Python 3",
   "language": "python",
   "name": "python3"
  },
  "language_info": {
   "codemirror_mode": {
    "name": "ipython",
    "version": 3
   },
   "file_extension": ".py",
   "mimetype": "text/x-python",
   "name": "python",
   "nbconvert_exporter": "python",
   "pygments_lexer": "ipython3",
   "version": "3.6.3"
  }
 },
 "nbformat": 4,
 "nbformat_minor": 2
}
